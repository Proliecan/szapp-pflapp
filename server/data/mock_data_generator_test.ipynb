{
 "cells": [
  {
   "cell_type": "markdown",
   "metadata": {},
   "source": [
    "# Mock Data Generator\n",
    "\n",
    "Testing of different functions for generating mock data for plants water values. Basis should be the [sawtooth wave](https://en.wikipedia.org/wiki/Sawtooth_wave).\n",
    "\n",
    "## Definiton of the sawtooh wave"
   ]
  },
  {
   "cell_type": "code",
   "execution_count": 2,
   "metadata": {},
   "outputs": [],
   "source": [
    "import matplotlib.pyplot as plt\n",
    "import math\n",
    "import numpy as np\n",
    "from scipy import signal"
   ]
  },
  {
   "cell_type": "markdown",
   "metadata": {},
   "source": [
    "$f(t)=t-\\lfloor t \\rfloor$"
   ]
  },
  {
   "cell_type": "code",
   "execution_count": 3,
   "metadata": {},
   "outputs": [],
   "source": [
    "sawtooth_basic = lambda t: 2 * ( t - np.floor(t+0.5) ) #x - np.floor(x) "
   ]
  },
  {
   "cell_type": "markdown",
   "metadata": {},
   "source": [
    "$f(t)=-\\frac{2a}{\\pi}\\arctan{(\\cot{\\frac{\\pi t}{p}})}$"
   ]
  },
  {
   "cell_type": "code",
   "execution_count": 4,
   "metadata": {},
   "outputs": [],
   "source": [
    "a = 1\n",
    "p = 1\n",
    "sawtooth_dif = lambda t: -(2*a/np.pi)*np.arctan(np.cos((np.pi*t)/p)/np.sin((np.pi*t)/p))"
   ]
  },
  {
   "cell_type": "markdown",
   "metadata": {},
   "source": [
    "$f(t)=$"
   ]
  },
  {
   "cell_type": "code",
   "execution_count": 5,
   "metadata": {},
   "outputs": [],
   "source": [
    "f = lambda p: 1/p\n",
    "\n",
    "a = 1\n",
    "p = 1\n",
    "sawtooth_reversed = lambda t: -((2*a)/np.pi)*sum([(-1)**k*((np.sin(2*np.pi*k*f(t)))/(k)) for k in range(1, 10_000)])"
   ]
  },
  {
   "cell_type": "code",
   "execution_count": 6,
   "metadata": {},
   "outputs": [
    {
     "data": {
      "image/png": "[encoded data removed]",
      "text/plain": [
       "<Figure size 432x288 with 2 Axes>"
      ]
     },
     "metadata": {
      "needs_background": "light"
     },
     "output_type": "display_data"
    }
   ],
   "source": [
    "x_ = np.linspace(1, 1, 1000, endpoint=True)\n",
    "\n",
    "# print(sawtooth_reversed(x_))\n",
    "\n",
    "plt.figure()\n",
    "plt.subplot(211)\n",
    "plt.plot(sawtooth_dif(x_))\n",
    "\n",
    "plt.subplot(212)\n",
    "plt.plot(sawtooth_basic(x_))\n",
    "\n",
    "# plt.subplot(213)\n",
    "# plt.plot(sawtooth_reversed(x_))\n",
    "\n",
    "plt.axhline(y=0, color='k')\n",
    "plt.ylabel(\"Value v\")\n",
    "plt.xlabel(\"time t\")\n",
    "plt.show()"
   ]
  },
  {
   "cell_type": "code",
   "execution_count": 10,
   "metadata": {},
   "outputs": [
    {
     "name": "stdout",
     "output_type": "stream",
     "text": [
      "[ 5.          4.99770449  4.99082007  4.97935307  4.963314    4.94271761\n",
      "  4.91758279  4.88793264  4.85379436  4.81519932  4.77218294  4.72478473\n",
      "  4.67304821  4.61702088  4.55675418  4.49230345  4.42372788  4.35109043\n",
      "  4.27445779  4.19390033  4.10949201  4.02131035  3.9294363   3.83395424\n",
      "  3.73495182  3.63251996  3.52675271  3.41774717  3.30560346  3.19042452\n",
      "  3.07231613  2.95138673  2.82774735  2.70151153  2.57279517  2.44171646\n",
      "  2.30839576  2.17295548  2.03551998  1.89621547  1.75516984  1.61251261\n",
      "  1.46837477  1.32288866  1.17618787  1.0284071   0.87968204  0.73014925\n",
      "  0.57994604  0.42921032  0.2780805   0.12669534 -0.02480614 -0.17628485\n",
      " -0.3276017  -0.47861774 -0.62919431 -0.77919316 -0.92847654 -1.0769074\n",
      " -1.22434943 -1.37066727 -1.51572655 -1.65939409 -1.80153796 -1.94202766\n",
      "  5.          4.99770449  4.99082007  4.97935307  4.963314    4.94271761\n",
      "  4.91758279  4.88793264  4.85379436  4.81519932  4.77218294  4.72478473\n",
      "  4.67304821  4.61702088  4.55675418  4.49230345  4.42372788  4.35109043\n",
      "  4.27445779  4.19390033  4.10949201  4.02131035  3.9294363   3.83395424\n",
      "  3.73495182  3.63251996  3.52675271  3.41774717  3.30560346  3.19042452\n",
      "  3.07231613  2.95138673  2.82774735  2.70151153]\n"
     ]
    },
    {
     "data": {
      "image/png": "[encoded data removed]",
      "text/plain": [
       "<Figure size 432x288 with 1 Axes>"
      ]
     },
     "metadata": {
      "needs_background": "light"
     },
     "output_type": "display_data"
    }
   ],
   "source": [
    "t = np.linspace(0, 1, 100, endpoint=True)\n",
    "\n",
    "f = 3   # frequency\n",
    "a = 1   # amplitude\n",
    "\n",
    "# Plot the sawtooth wave\n",
    "plt.plot(t, np.cos(signal.sawtooth(a * np.pi * f * t)+1)*5)\n",
    "\n",
    "print(np.cos(signal.sawtooth(a * np.pi * f * t)+1)*5)\n",
    "\n",
    "# Give x, y, title axis label\n",
    "plt.xlabel('Time')\n",
    "plt.ylabel('Amplitude')\n",
    "  \n",
    "plt.axhline(y=1, color='r')\n",
    "  \n",
    "# Display\n",
    "plt.show()"
   ]
  }
 ],
 "metadata": {
  "kernelspec": {
   "display_name": "Python 3.10.1 64-bit",
   "language": "python",
   "name": "python3"
  },
  "language_info": {
   "codemirror_mode": {
    "name": "ipython",
    "version": 3
   },
   "file_extension": ".py",
   "mimetype": "text/x-python",
   "name": "python",
   "nbconvert_exporter": "python",
   "pygments_lexer": "ipython3",
   "version": "3.10.1"
  },
  "orig_nbformat": 4,
  "vscode": {
   "interpreter": {
    "hash": "ef3bb9b5274041672013c10e8b48de934af661a034eb8434d48ecb856cc45e5d"
   }
  }
 },
 "nbformat": 4,
 "nbformat_minor": 2
}
